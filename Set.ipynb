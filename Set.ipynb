{
  "nbformat": 4,
  "nbformat_minor": 0,
  "metadata": {
    "colab": {
      "provenance": []
    },
    "kernelspec": {
      "name": "python3",
      "display_name": "Python 3"
    },
    "language_info": {
      "name": "python"
    }
  },
  "cells": [
    {
      "cell_type": "code",
      "execution_count": null,
      "metadata": {
        "colab": {
          "base_uri": "https://localhost:8080/"
        },
        "id": "LrHbmI_7MN7Y",
        "outputId": "e585ff4b-3014-48da-fb04-7fa8365f9b69"
      },
      "outputs": [
        {
          "output_type": "stream",
          "name": "stdout",
          "text": [
            "{1, 2, 3, 4}\n",
            "{4, 5, 6, 7}\n"
          ]
        }
      ],
      "source": [
        "set1 = {1, 2, 3 , 4, 4, 4}  #set don't allow duplicate value\n",
        "set2 = set([4, 5, 6, 7])    #convert array (list) into set\n",
        "\n",
        "print(set1)\n",
        "print(set2)"
      ]
    },
    {
      "cell_type": "code",
      "source": [
        "#Add, Remove function of Set\n",
        "\n",
        "set3 = {5, 6, 7}\n",
        "set4 = {1, 2, 4, 5, 3}\n",
        "\n",
        "\n",
        "set3.add(8)\n",
        "set4.remove(1)\n",
        "\n",
        "print(set3)\n",
        "print(set4)"
      ],
      "metadata": {
        "colab": {
          "base_uri": "https://localhost:8080/"
        },
        "id": "09MthweMM9lK",
        "outputId": "4e6df783-2eb3-433d-a1e2-72fe8c18f809"
      },
      "execution_count": null,
      "outputs": [
        {
          "output_type": "stream",
          "name": "stdout",
          "text": [
            "{8, 5, 6, 7}\n",
            "{2, 3, 4, 5}\n"
          ]
        }
      ]
    },
    {
      "cell_type": "code",
      "source": [
        "#In, Not in function of set\n",
        "\n",
        "set5 = {5, 6, 7, 3}\n",
        "set6 = {1, 2, 4, 5}\n",
        "\n",
        "print(5 in set5)\n",
        "print(4 in set5)\n",
        "\n",
        "\n",
        "print(5 not in set5)\n",
        "print(4 not in set5)"
      ],
      "metadata": {
        "colab": {
          "base_uri": "https://localhost:8080/"
        },
        "id": "AZUJXh_sOQZI",
        "outputId": "b6fd15dd-072c-42b3-e5cc-2811e5fd388a"
      },
      "execution_count": null,
      "outputs": [
        {
          "output_type": "stream",
          "name": "stdout",
          "text": [
            "True\n",
            "False\n",
            "False\n",
            "True\n"
          ]
        }
      ]
    },
    {
      "cell_type": "code",
      "source": [
        "#Union, intersection of set\n",
        "\n",
        "set7 = {4, 6, 7, 3}\n",
        "set8 = {1, 3, 4, 5}\n",
        "\n",
        "print(set7 | set8)\n",
        "print(set7 & set8)\n",
        "print(set7 - set8)\n",
        "print(set8 - set7)\n",
        "print(set7 == set8)\n",
        "\n",
        "\n"
      ],
      "metadata": {
        "colab": {
          "base_uri": "https://localhost:8080/"
        },
        "id": "N2Jb-HqnPpuM",
        "outputId": "22460c2f-4008-4ae2-d816-a5f0e01be1b3"
      },
      "execution_count": null,
      "outputs": [
        {
          "output_type": "stream",
          "name": "stdout",
          "text": [
            "{1, 3, 4, 5, 6, 7}\n",
            "{3, 4}\n",
            "{6, 7}\n",
            "{1, 5}\n"
          ]
        }
      ]
    },
    {
      "cell_type": "code",
      "source": [
        "#convert list to set\n",
        "list1={1,2,5,4,8,9}\n",
        "convert= set(list1)\n",
        "print(convert)\n",
        "\n",
        "list2= [3,6,9,5,9]\n",
        "print(set(list2))\n"
      ],
      "metadata": {
        "colab": {
          "base_uri": "https://localhost:8080/"
        },
        "id": "eL4qcDwr7ZaF",
        "outputId": "ca245bec-4c5c-4f40-a713-5168f91b2d4a"
      },
      "execution_count": 8,
      "outputs": [
        {
          "output_type": "stream",
          "name": "stdout",
          "text": [
            "{1, 2, 4, 5, 8, 9}\n",
            "{9, 3, 5, 6}\n"
          ]
        }
      ]
    }
  ]
}