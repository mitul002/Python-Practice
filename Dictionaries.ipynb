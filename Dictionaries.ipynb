{
  "cells": [
    {
      "cell_type": "code",
      "execution_count": 4,
      "metadata": {
        "id": "XOE2glcFIHpz",
        "outputId": "da0e298d-4316-4bfa-d7f1-100ddc6afa9b",
        "colab": {
          "base_uri": "https://localhost:8080/"
        }
      },
      "outputs": [
        {
          "output_type": "stream",
          "name": "stdout",
          "text": [
            "{4617: 'Mitul', 4835: 'Sanjida', 5606: 'Piash', 5886: 'Alvi'}\n",
            "Mitul\n",
            "Piash\n"
          ]
        }
      ],
      "source": [
        "student_id = {\n",
        "\n",
        "              4617: \"Mitul\",\n",
        "              4835: \"Sanjida\",\n",
        "              5606: \"Piash\",\n",
        "              5886: \"Alvi\",\n",
        "}\n",
        "\n",
        "print(student_id)\n",
        "print(student_id[4617])\n",
        "print(student_id[5606])\n",
        "\n"
      ]
    },
    {
      "cell_type": "code",
      "source": [
        "student_id = {\n",
        "\n",
        "              4617: \"Mitul\",\n",
        "              4835: \"Sanjida\",\n",
        "              5606: \"Piash\",\n",
        "              5886: \"Alvi\",\n",
        "}\n",
        "\n",
        "\n",
        "print(student_id.get(4617))\n",
        "print(student_id.get(4835))\n",
        "\n",
        "\n",
        "student_id[4617]=\"Hasin\" #repalce key value\n",
        "print(student_id.get(4617))\n",
        "\n",
        "\n",
        "print(student_id.get(4685))\n",
        "print(student_id.get(4620,  \"ID not found\"))\n"
      ],
      "metadata": {
        "colab": {
          "base_uri": "https://localhost:8080/"
        },
        "id": "wJt3EttgtprS",
        "outputId": "9550fd95-4739-4f67-aab1-cd8daadae2a2"
      },
      "execution_count": 3,
      "outputs": [
        {
          "output_type": "stream",
          "name": "stdout",
          "text": [
            "Mitul\n",
            "Sanjida\n",
            "Hasin\n",
            "None\n",
            "ID not found\n"
          ]
        }
      ]
    },
    {
      "cell_type": "code",
      "source": [
        "student_id = {\n",
        "             4617 : \"Mitul\",\n",
        "             4835 : \"Sanjida\",\n",
        "             5606 : \"Piash\",\n",
        "             5886 : \"Alvi\",\n",
        "            }\n",
        "\n",
        "print(student_id.items())\n",
        "print(\"\\n\")\n",
        "print(student_id.keys())\n",
        "print(student_id.values())"
      ],
      "metadata": {
        "colab": {
          "base_uri": "https://localhost:8080/"
        },
        "id": "cdEIiNi-uiaw",
        "outputId": "74ac933e-def9-4c08-d56a-7ddf93ec767a"
      },
      "execution_count": 12,
      "outputs": [
        {
          "output_type": "stream",
          "name": "stdout",
          "text": [
            "dict_items([(4617, 'Mitul'), (4835, 'Sanjida'), (5606, 'Piash'), (5886, 'Alvi')])\n",
            "\n",
            "\n",
            "dict_keys([4617, 4835, 5606, 5886])\n",
            "dict_values(['Mitul', 'Sanjida', 'Piash', 'Alvi'])\n"
          ]
        }
      ]
    },
    {
      "cell_type": "code",
      "source": [
        "student_id = {\n",
        "              4617 : \"Mitul\",\n",
        "              4835 : \"Sanjida\",\n",
        "              5606 : \"Piash\",\n",
        "              5886 : \"Alvi\"\n",
        "}\n",
        "\n",
        "for i, j in student_id.items():\n",
        "  print(f\"{i} is the id of {j}\")\n"
      ],
      "metadata": {
        "colab": {
          "base_uri": "https://localhost:8080/"
        },
        "id": "Go_LIrMkwKiD",
        "outputId": "78a7b9a7-83fe-4772-9ff1-efd8d516eb88"
      },
      "execution_count": 25,
      "outputs": [
        {
          "output_type": "stream",
          "name": "stdout",
          "text": [
            "4617 is the id of Mitul\n",
            "4835 is the id of Sanjida\n",
            "5606 is the id of Piash\n",
            "5886 is the id of Alvi\n"
          ]
        }
      ]
    },
    {
      "cell_type": "code",
      "execution_count": null,
      "metadata": {
        "id": "VkmmOInXJ-TN",
        "colab": {
          "base_uri": "https://localhost:8080/"
        },
        "outputId": "7b9880ba-8a4b-4536-ee02-53bc1642a6f1"
      },
      "outputs": [
        {
          "output_type": "stream",
          "name": "stdout",
          "text": [
            "Enter name to find student ID: mitul\n",
            "4617\n",
            "Enter name to find student ID: 4835\n",
            "Person Not found\n"
          ]
        }
      ],
      "source": [
        "\n",
        "student_id= {\n",
        "     \"mitul\" : \"4617\",\n",
        "     \"smriti\": \"4835\",\n",
        "     \"rohid\" : \"5076\",\n",
        "     \"piash\" : \"5606\",\n",
        "     \"alvi\"  : \"5886\"\n",
        "}\n",
        "\n",
        "while 1:\n",
        " inp = str(input(\"Enter name to find student ID: \"))\n",
        " print(student_id.get(inp,\"Person Not found\"))\n",
        "\n"
      ]
    }
  ],
  "metadata": {
    "colab": {
      "provenance": []
    },
    "kernelspec": {
      "display_name": "Python 3",
      "name": "python3"
    },
    "language_info": {
      "name": "python"
    }
  },
  "nbformat": 4,
  "nbformat_minor": 0
}